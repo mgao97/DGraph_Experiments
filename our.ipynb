{
 "cells": [
  {
   "cell_type": "code",
   "execution_count": null,
   "metadata": {},
   "outputs": [],
   "source": [
    "from analysis.load_dataset import build_tg_data\n",
    "import numpy as np\n",
    "import torch\n",
    "import pandas as pd\n",
    "import torch_geometric\n",
    "import torch.nn.functional as F\n",
    "from sklearn import metrics\n",
    "from torch_geometric.nn import TransformerConv\n",
    "from torch_geometric.utils import to_networkx, from_networkx\n",
    "\n",
    "\n",
    "import networkx as nx\n",
    "import matplotlib.pyplot as plt\n"
   ]
  },
  {
   "cell_type": "code",
   "execution_count": null,
   "metadata": {},
   "outputs": [],
   "source": [
    "def evaluate(y_truth,y_pred):\n",
    "    auc = metrics.roc_auc_score(y_truth, y_pred, multi_class='ovo',labels=[0,1],average='macro')\n",
    "    ap = metrics.average_precision_score(y_truth, y_pred, average='macro', pos_label=1, sample_weight=None)\n",
    "    return ap,auc\n",
    "def process_data(data,max_time_steps=32):\n",
    "    data.edge_time = data.edge_time-data.edge_time.min() #process edge time\n",
    "    data.edge_time = data.edge_time/data.edge_time.max()\n",
    "    data.edge_time = (data.edge_time*max_time_steps).long()\n",
    "    data.edge_time = data.edge_time.view(-1,1).float()\n",
    "    \n",
    "    \n",
    "    edge = torch.cat([data.edge_index,data.edge_time.view(1,-1)],dim=0) #process node time\n",
    "    degree = pd.DataFrame(edge.T.numpy()).groupby(0).min().values\n",
    "    ids = pd.DataFrame(data.edge_index.T.numpy()).groupby(0).count().index.values \n",
    "    key = {}\n",
    "    for i in range(data.x.shape[0]):\n",
    "        key[i]=0\n",
    "    for i in range(len(ids)):\n",
    "        key[ids[i]]=degree[i][1]\n",
    "    node_time = np.array(list(key.values()))\n",
    "    data.node_time=torch.tensor(node_time)\n",
    "    \n",
    "    # trans to undirected graph\n",
    "    data.edge_index = torch.cat((data.edge_index,data.edge_index[[1,0],:]),dim=1)\n",
    "    data.edge_time = torch.cat((data.edge_time,data.edge_time),dim=0)\n",
    "\n",
    "    return data"
   ]
  },
  {
   "cell_type": "code",
   "execution_count": null,
   "metadata": {},
   "outputs": [],
   "source": [
    "datapath = './dataset/DGraphFin/raw/dgraphfin.npz'\n",
    "origin_data = np.load(datapath)\n",
    "data = build_tg_data(is_undirected=False,datapath=datapath)\n",
    "data = process_data(data)\n",
    "\n",
    "device = torch.device('cpu')"
   ]
  },
  {
   "cell_type": "code",
   "execution_count": null,
   "metadata": {},
   "outputs": [],
   "source": [
    "data"
   ]
  },
  {
   "cell_type": "code",
   "execution_count": null,
   "metadata": {},
   "outputs": [],
   "source": [
    "labels = data.y\n",
    "# 获取每个标签对应的节点索引\n",
    "label_indices = {}\n",
    "unique_labels = labels.unique()\n",
    "\n",
    "for label in unique_labels:\n",
    "    label_indices[label.item()] = torch.nonzero(labels == label).view(-1)\n",
    "\n",
    "# 打印每个标签对应的节点索引\n",
    "for label, indices in label_indices.items():\n",
    "    print(f\"Label {label}: Node indices {indices}, shape {indices.shape}\")"
   ]
  },
  {
   "cell_type": "code",
   "execution_count": null,
   "metadata": {},
   "outputs": [],
   "source": [
    "normal, fraud, back1, back2 = label_indices[0], label_indices[1], label_indices[2], label_indices[3]\n",
    "\n",
    "normal.shape, fraud.shape, back1.shape, back2.shape"
   ]
  },
  {
   "cell_type": "code",
   "execution_count": null,
   "metadata": {},
   "outputs": [],
   "source": [
    "labels, labels.shape"
   ]
  },
  {
   "cell_type": "code",
   "execution_count": null,
   "metadata": {},
   "outputs": [],
   "source": [
    "g = to_networkx(data, to_undirected=True)\n",
    "g"
   ]
  },
  {
   "cell_type": "code",
   "execution_count": null,
   "metadata": {},
   "outputs": [],
   "source": [
    "list(g.nodes())[:5]"
   ]
  },
  {
   "cell_type": "code",
   "execution_count": null,
   "metadata": {},
   "outputs": [],
   "source": [
    "normal_l = list(normal.numpy().tolist())\n",
    "fraud_l = list(fraud.numpy().tolist())\n",
    "back1_l = list(back1.numpy().tolist())\n",
    "back2_l = list(back2.numpy().tolist())\n",
    "normal_l[:10]\n"
   ]
  },
  {
   "cell_type": "markdown",
   "metadata": {},
   "source": [
    "#### 局部子图结构分析"
   ]
  },
  {
   "cell_type": "code",
   "execution_count": null,
   "metadata": {},
   "outputs": [],
   "source": [
    "\n",
    "\n",
    "def ego_plot(g, ego_nodes, radius):\n",
    "\n",
    "    # 设置子图的行和列\n",
    "    num_rows = 3\n",
    "    num_cols = 3\n",
    "\n",
    "    # 创建一个新的图形\n",
    "    fig, axes = plt.subplots(num_rows, num_cols, figsize=(10, 8))\n",
    "\n",
    "    for i, node in enumerate(ego_nodes):\n",
    "        # 计算子图在图中的位置\n",
    "        row = i // num_cols\n",
    "        col = i % num_cols\n",
    "\n",
    "        ego_subgraph = nx.ego_graph(g, node, radius)\n",
    "\n",
    "        # 创建一个节点标签的字典，设置橙色、绿色和红色的节点\n",
    "        node_colors = ['g' if n in normal_l else 'r' if n in fraud_l else 'blue' if n in back1_l else 'orange' for n in ego_subgraph.nodes()]\n",
    "\n",
    "        # 使用布局算法绘制ego子图\n",
    "        pos = nx.spring_layout(ego_subgraph)\n",
    "        \n",
    "        # 绘制ego子图到相应的子图位置\n",
    "        nx.draw(ego_subgraph, pos, with_labels=True, node_size=150, ax=axes[row, col], node_color=node_colors, font_size=6)\n",
    "        \n",
    "        # 设置标题\n",
    "        axes[row, col].set_title(f'Ego Subgraph for Node {node}')\n",
    "\n",
    "    # 调整子图之间的间距\n",
    "    plt.tight_layout()\n",
    "\n",
    "    # 显示图\n",
    "    plt.show()\n"
   ]
  },
  {
   "cell_type": "code",
   "execution_count": null,
   "metadata": {},
   "outputs": [],
   "source": [
    "ego_plot(g, normal_l[:9], radius=3)"
   ]
  },
  {
   "cell_type": "code",
   "execution_count": null,
   "metadata": {},
   "outputs": [],
   "source": [
    "ego_plot(g, fraud_l[:9], radius=3)"
   ]
  },
  {
   "cell_type": "code",
   "execution_count": null,
   "metadata": {},
   "outputs": [],
   "source": [
    "ego_plot(g, back1_l[:9], radius=3)"
   ]
  },
  {
   "cell_type": "code",
   "execution_count": null,
   "metadata": {},
   "outputs": [],
   "source": [
    "ego_plot(g, back2_l[:9], radius=3)"
   ]
  },
  {
   "cell_type": "markdown",
   "metadata": {},
   "source": [
    "#### 节点属性分析"
   ]
  },
  {
   "cell_type": "code",
   "execution_count": null,
   "metadata": {},
   "outputs": [],
   "source": [
    "data.x.shape"
   ]
  },
  {
   "cell_type": "code",
   "execution_count": null,
   "metadata": {},
   "outputs": [],
   "source": [
    "def feats_plot(data, node_idx):\n",
    "    # 定义子图的行和列数\n",
    "    num_rows = 4  # 4行\n",
    "    num_cols = 5  # 5列\n",
    "\n",
    "    # 创建一个新的图形\n",
    "    fig, axes = plt.subplots(num_rows, num_cols, figsize=(15, 12))\n",
    "\n",
    "    # 遍历每列特征并绘制其分布\n",
    "    for i in range(17):\n",
    "        row = i // num_cols\n",
    "        col = i % num_cols\n",
    "        \n",
    "        feature_values = data.x[node_idx, i].numpy()\n",
    "        \n",
    "        # 绘制特征列的直方图\n",
    "        axes[row, col].hist(feature_values, bins=50, alpha=0.5, color='b', edgecolor='black')\n",
    "        axes[row, col].set_title(f'Feature {i} Distribution')\n",
    "        axes[row, col].set_xlabel('Feature Value')\n",
    "        axes[row, col].set_ylabel('Frequency')\n",
    "\n",
    "    # 调整子图之间的间距\n",
    "    plt.tight_layout()\n",
    "\n",
    "    # 显示图\n",
    "    plt.show()"
   ]
  },
  {
   "cell_type": "code",
   "execution_count": null,
   "metadata": {},
   "outputs": [],
   "source": [
    "feats_plot(data, normal)"
   ]
  },
  {
   "cell_type": "code",
   "execution_count": null,
   "metadata": {},
   "outputs": [],
   "source": [
    "feats_plot(data, fraud)"
   ]
  },
  {
   "cell_type": "code",
   "execution_count": null,
   "metadata": {},
   "outputs": [],
   "source": [
    "feats_plot(data, back1)"
   ]
  },
  {
   "cell_type": "code",
   "execution_count": null,
   "metadata": {},
   "outputs": [],
   "source": [
    "feats_plot(data, back2)"
   ]
  },
  {
   "cell_type": "code",
   "execution_count": null,
   "metadata": {},
   "outputs": [],
   "source": [
    "num_samples = data.x.shape[0]\n",
    "# 将数据集分成多个块\n",
    "block_size = 100  # 每个块的大小\n",
    "num_blocks = num_samples // block_size\n",
    "\n",
    "similarities = np.zeros((num_samples, num_samples))  # 存储相似性矩阵\n",
    "\n",
    "for i in range(num_blocks):\n",
    "    for j in range(i, num_blocks):\n",
    "        start_i = i * block_size\n",
    "        end_i = (i + 1) * block_size\n",
    "        start_j = j * block_size\n",
    "        end_j = (j + 1) * block_size\n",
    "        \n",
    "        # 获取两个块的数据\n",
    "        block1 = data[start_i:end_i]\n",
    "        block2 = data[start_j:end_j]\n",
    "        \n",
    "        # 计算块之间的余弦相似性\n",
    "        block_similarity = cosine_similarity(block1, block2)\n",
    "        \n",
    "        # 更新相似性矩阵\n",
    "        similarities[start_i:end_i, start_j:end_j] = block_similarity\n",
    "        similarities[start_j:end_j, start_i:end_i] = block_similarity.T"
   ]
  },
  {
   "cell_type": "code",
   "execution_count": null,
   "metadata": {},
   "outputs": [],
   "source": [
    "# 计算余弦相似性\n",
    "def cosine_similarity(matrix):\n",
    "    dot_product = np.dot(matrix, matrix.T)\n",
    "    norms = np.linalg.norm(matrix, axis=1)\n",
    "    norms_matrix = np.outer(norms, norms)\n",
    "    similarity_matrix = dot_product / norms_matrix\n",
    "    return similarity_matrix\n",
    "\n",
    "# 计算余弦相似性矩阵\n",
    "cosine_sim_matrix = cosine_similarity(data.x)\n",
    "\n",
    "# 绘制热力图\n",
    "plt.imshow(cosine_sim_matrix, cmap='coolwarm', interpolation='nearest')\n",
    "plt.colorbar()\n",
    "plt.title(\"Cosine Similarity Heatmap\")\n",
    "plt.show()"
   ]
  },
  {
   "cell_type": "markdown",
   "metadata": {},
   "source": [
    "#### 时序信息分析"
   ]
  },
  {
   "cell_type": "code",
   "execution_count": null,
   "metadata": {},
   "outputs": [],
   "source": [
    "edge_time = data.edge_time\n",
    "edge_index = data.edge_index\n",
    "edge_time.shape, edge_index.shape"
   ]
  },
  {
   "cell_type": "code",
   "execution_count": null,
   "metadata": {},
   "outputs": [],
   "source": []
  }
 ],
 "metadata": {
  "kernelspec": {
   "display_name": "base",
   "language": "python",
   "name": "python3"
  },
  "language_info": {
   "codemirror_mode": {
    "name": "ipython",
    "version": 3
   },
   "file_extension": ".py",
   "mimetype": "text/x-python",
   "name": "python",
   "nbconvert_exporter": "python",
   "pygments_lexer": "ipython3",
   "version": "3.11.5"
  }
 },
 "nbformat": 4,
 "nbformat_minor": 2
}
